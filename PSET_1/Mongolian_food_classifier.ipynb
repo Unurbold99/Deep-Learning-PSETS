{
 "cells": [
  {
   "cell_type": "markdown",
   "metadata": {
    "id": "sFyiv5iWUagh"
   },
   "source": [
    "Making a Mongolian Food Classifier"
   ]
  },
  {
   "cell_type": "code",
   "execution_count": 1,
   "metadata": {
    "colab": {
     "base_uri": "https://localhost:8080/"
    },
    "executionInfo": {
     "elapsed": 524,
     "status": "ok",
     "timestamp": 1708344897201,
     "user": {
      "displayName": "Unurbold Mart",
      "userId": "10055402799999228266"
     },
     "user_tz": -480
    },
    "id": "BqlJiiWdWnit",
    "outputId": "b35d6fe5-0fd7-47e8-c954-b6911d8ead8a"
   },
   "outputs": [
    {
     "name": "stdout",
     "output_type": "stream",
     "text": [
      "Fast.ai version: 2.7.14\n",
      "Fastcore version: 1.5.29\n"
     ]
    }
   ],
   "source": [
    "import fastai\n",
    "import fastcore\n",
    "print('Fast.ai version:', fastai.__version__)\n",
    "print('Fastcore version:', fastcore.__version__)"
   ]
  },
  {
   "cell_type": "code",
   "execution_count": 2,
   "metadata": {
    "colab": {
     "base_uri": "https://localhost:8080/"
    },
    "executionInfo": {
     "elapsed": 5315,
     "status": "ok",
     "timestamp": 1708344903602,
     "user": {
      "displayName": "Unurbold Mart",
      "userId": "10055402799999228266"
     },
     "user_tz": -480
    },
    "id": "0hEGmS_q8olt",
    "outputId": "fffadfb1-c767-4910-c460-729daee09db6"
   },
   "outputs": [
    {
     "name": "stdout",
     "output_type": "stream",
     "text": [
      "Requirement already satisfied: torch in c:\\users\\mart\\anaconda3\\lib\\site-packages (2.2.0)\n",
      "Requirement already satisfied: filelock in c:\\users\\mart\\anaconda3\\lib\\site-packages (from torch) (3.9.0)\n",
      "Requirement already satisfied: typing-extensions>=4.8.0 in c:\\users\\mart\\anaconda3\\lib\\site-packages (from torch) (4.9.0)\n",
      "Requirement already satisfied: sympy in c:\\users\\mart\\anaconda3\\lib\\site-packages (from torch) (1.11.1)\n",
      "Requirement already satisfied: networkx in c:\\users\\mart\\anaconda3\\lib\\site-packages (from torch) (3.1)\n",
      "Requirement already satisfied: jinja2 in c:\\users\\mart\\anaconda3\\lib\\site-packages (from torch) (3.1.2)\n",
      "Requirement already satisfied: fsspec in c:\\users\\mart\\anaconda3\\lib\\site-packages (from torch) (2023.4.0)\n",
      "Requirement already satisfied: MarkupSafe>=2.0 in c:\\users\\mart\\anaconda3\\lib\\site-packages (from jinja2->torch) (2.1.1)\n",
      "Requirement already satisfied: mpmath>=0.19 in c:\\users\\mart\\anaconda3\\lib\\site-packages (from sympy->torch) (1.3.0)\n",
      "Note: you may need to restart the kernel to use updated packages.\n"
     ]
    }
   ],
   "source": [
    "pip install torch"
   ]
  },
  {
   "cell_type": "code",
   "execution_count": 3,
   "metadata": {
    "executionInfo": {
     "elapsed": 4,
     "status": "ok",
     "timestamp": 1708344903603,
     "user": {
      "displayName": "Unurbold Mart",
      "userId": "10055402799999228266"
     },
     "user_tz": -480
    },
    "id": "VHqk2VS4UWxS"
   },
   "outputs": [],
   "source": [
    "from fastai.vision.all import *"
   ]
  },
  {
   "cell_type": "code",
   "execution_count": 4,
   "metadata": {
    "executionInfo": {
     "elapsed": 4,
     "status": "ok",
     "timestamp": 1708344903603,
     "user": {
      "displayName": "Unurbold Mart",
      "userId": "10055402799999228266"
     },
     "user_tz": -480
    },
    "id": "J1oVVNFeuaK6"
   },
   "outputs": [],
   "source": [
    "from fastai.vision.widgets import *"
   ]
  },
  {
   "cell_type": "code",
   "execution_count": 5,
   "metadata": {
    "executionInfo": {
     "elapsed": 4,
     "status": "ok",
     "timestamp": 1708344903603,
     "user": {
      "displayName": "Unurbold Mart",
      "userId": "10055402799999228266"
     },
     "user_tz": -480
    },
    "id": "lYicR8tPO0yw"
   },
   "outputs": [],
   "source": [
    "from fastdownload import download_url"
   ]
  },
  {
   "cell_type": "code",
   "execution_count": 6,
   "metadata": {
    "colab": {
     "base_uri": "https://localhost:8080/"
    },
    "executionInfo": {
     "elapsed": 6650,
     "status": "ok",
     "timestamp": 1708344910250,
     "user": {
      "displayName": "Unurbold Mart",
      "userId": "10055402799999228266"
     },
     "user_tz": -480
    },
    "id": "4VBGbdpG2MP9",
    "outputId": "8d6824f7-e629-4c73-bf8c-9339d9933a5d"
   },
   "outputs": [
    {
     "name": "stdout",
     "output_type": "stream",
     "text": [
      "Requirement already satisfied: pip in c:\\users\\mart\\anaconda3\\lib\\site-packages (24.0)\n",
      "Note: you may need to restart the kernel to use updated packages.\n"
     ]
    }
   ],
   "source": [
    "pip install --upgrade pip"
   ]
  },
  {
   "cell_type": "code",
   "execution_count": 7,
   "metadata": {
    "colab": {
     "base_uri": "https://localhost:8080/"
    },
    "executionInfo": {
     "elapsed": 6016,
     "status": "ok",
     "timestamp": 1708344916262,
     "user": {
      "displayName": "Unurbold Mart",
      "userId": "10055402799999228266"
     },
     "user_tz": -480
    },
    "id": "c9INgcL9yrWq",
    "outputId": "8549de1e-6628-4b66-83eb-375515513ba3"
   },
   "outputs": [
    {
     "name": "stdout",
     "output_type": "stream",
     "text": [
      "Requirement already satisfied: duckduckgo_search in c:\\users\\mart\\anaconda3\\lib\\site-packages (4.4.3)\n",
      "Requirement already satisfied: click>=8.1.7 in c:\\users\\mart\\anaconda3\\lib\\site-packages (from duckduckgo_search) (8.1.7)\n",
      "Requirement already satisfied: curl-cffi>=0.6.0b9 in c:\\users\\mart\\anaconda3\\lib\\site-packages (from duckduckgo_search) (0.6.0b9)\n",
      "Requirement already satisfied: lxml>=5.1.0 in c:\\users\\mart\\anaconda3\\lib\\site-packages (from duckduckgo_search) (5.1.0)\n",
      "Requirement already satisfied: nest-asyncio>=1.6.0 in c:\\users\\mart\\anaconda3\\lib\\site-packages (from duckduckgo_search) (1.6.0)\n",
      "Requirement already satisfied: colorama in c:\\users\\mart\\anaconda3\\lib\\site-packages (from click>=8.1.7->duckduckgo_search) (0.4.6)\n",
      "Requirement already satisfied: cffi>=1.12.0 in c:\\users\\mart\\anaconda3\\lib\\site-packages (from curl-cffi>=0.6.0b9->duckduckgo_search) (1.15.1)\n",
      "Requirement already satisfied: certifi in c:\\users\\mart\\anaconda3\\lib\\site-packages (from curl-cffi>=0.6.0b9->duckduckgo_search) (2023.7.22)\n",
      "Requirement already satisfied: pycparser in c:\\users\\mart\\anaconda3\\lib\\site-packages (from cffi>=1.12.0->curl-cffi>=0.6.0b9->duckduckgo_search) (2.21)\n",
      "Note: you may need to restart the kernel to use updated packages.\n"
     ]
    }
   ],
   "source": [
    "pip install -U duckduckgo_search"
   ]
  },
  {
   "cell_type": "code",
   "execution_count": 8,
   "metadata": {
    "colab": {
     "base_uri": "https://localhost:8080/"
    },
    "executionInfo": {
     "elapsed": 5387,
     "status": "ok",
     "timestamp": 1708344921646,
     "user": {
      "displayName": "Unurbold Mart",
      "userId": "10055402799999228266"
     },
     "user_tz": -480
    },
    "id": "9oLOx7zby37u",
    "outputId": "1a37e967-39f8-4589-94f6-efbf4611c8ae"
   },
   "outputs": [
    {
     "name": "stdout",
     "output_type": "stream",
     "text": [
      "Requirement already satisfied: fastcore in c:\\users\\mart\\anaconda3\\lib\\site-packages (1.5.29)\n",
      "Requirement already satisfied: pip in c:\\users\\mart\\anaconda3\\lib\\site-packages (from fastcore) (24.0)\n",
      "Requirement already satisfied: packaging in c:\\users\\mart\\anaconda3\\lib\\site-packages (from fastcore) (23.1)\n",
      "Note: you may need to restart the kernel to use updated packages.\n"
     ]
    }
   ],
   "source": [
    "pip install fastcore"
   ]
  },
  {
   "cell_type": "code",
   "execution_count": 9,
   "metadata": {
    "executionInfo": {
     "elapsed": 4,
     "status": "ok",
     "timestamp": 1708344921647,
     "user": {
      "displayName": "Unurbold Mart",
      "userId": "10055402799999228266"
     },
     "user_tz": -480
    },
    "id": "GuUffLHye6vO"
   },
   "outputs": [
    {
     "ename": "ImportError",
     "evalue": "DLL load failed while importing _wrapper: The operating system cannot run %1.",
     "output_type": "error",
     "traceback": [
      "\u001b[1;31m---------------------------------------------------------------------------\u001b[0m",
      "\u001b[1;31mImportError\u001b[0m                               Traceback (most recent call last)",
      "Cell \u001b[1;32mIn[9], line 1\u001b[0m\n\u001b[1;32m----> 1\u001b[0m \u001b[38;5;28;01mfrom\u001b[39;00m \u001b[38;5;21;01mduckduckgo_search\u001b[39;00m \u001b[38;5;28;01mimport\u001b[39;00m DDGS\n\u001b[0;32m      2\u001b[0m \u001b[38;5;28;01mfrom\u001b[39;00m \u001b[38;5;21;01mfastcore\u001b[39;00m\u001b[38;5;21;01m.\u001b[39;00m\u001b[38;5;21;01mall\u001b[39;00m \u001b[38;5;28;01mimport\u001b[39;00m \u001b[38;5;241m*\u001b[39m\n\u001b[0;32m      4\u001b[0m \u001b[38;5;28;01mdef\u001b[39;00m \u001b[38;5;21msearch_images\u001b[39m(term, max_images\u001b[38;5;241m=\u001b[39m\u001b[38;5;241m30\u001b[39m):\n",
      "File \u001b[1;32m~\\anaconda3\\Lib\\site-packages\\duckduckgo_search\\__init__.py:10\u001b[0m\n\u001b[0;32m      7\u001b[0m \u001b[38;5;28;01mimport\u001b[39;00m \u001b[38;5;21;01mlogging\u001b[39;00m\n\u001b[0;32m      9\u001b[0m \u001b[38;5;66;03m# ruff: noqa: F401\u001b[39;00m\n\u001b[1;32m---> 10\u001b[0m \u001b[38;5;28;01mfrom\u001b[39;00m \u001b[38;5;21;01m.\u001b[39;00m\u001b[38;5;21;01mduckduckgo_search\u001b[39;00m \u001b[38;5;28;01mimport\u001b[39;00m DDGS\n\u001b[0;32m     11\u001b[0m \u001b[38;5;28;01mfrom\u001b[39;00m \u001b[38;5;21;01m.\u001b[39;00m\u001b[38;5;21;01mduckduckgo_search_async\u001b[39;00m \u001b[38;5;28;01mimport\u001b[39;00m AsyncDDGS\n\u001b[0;32m     12\u001b[0m \u001b[38;5;28;01mfrom\u001b[39;00m \u001b[38;5;21;01m.\u001b[39;00m\u001b[38;5;21;01mversion\u001b[39;00m \u001b[38;5;28;01mimport\u001b[39;00m __version__\n",
      "File \u001b[1;32m~\\anaconda3\\Lib\\site-packages\\duckduckgo_search\\duckduckgo_search.py:7\u001b[0m\n\u001b[0;32m      3\u001b[0m \u001b[38;5;28;01mfrom\u001b[39;00m \u001b[38;5;21;01mtyping\u001b[39;00m \u001b[38;5;28;01mimport\u001b[39;00m Dict, Generator, Optional\n\u001b[0;32m      5\u001b[0m \u001b[38;5;28;01mimport\u001b[39;00m \u001b[38;5;21;01mnest_asyncio\u001b[39;00m\n\u001b[1;32m----> 7\u001b[0m \u001b[38;5;28;01mfrom\u001b[39;00m \u001b[38;5;21;01m.\u001b[39;00m\u001b[38;5;21;01mduckduckgo_search_async\u001b[39;00m \u001b[38;5;28;01mimport\u001b[39;00m AsyncDDGS\n\u001b[0;32m      9\u001b[0m logger \u001b[38;5;241m=\u001b[39m logging\u001b[38;5;241m.\u001b[39mgetLogger(\u001b[38;5;124m\"\u001b[39m\u001b[38;5;124mduckduckgo_search.DDGS\u001b[39m\u001b[38;5;124m\"\u001b[39m)\n\u001b[0;32m     10\u001b[0m nest_asyncio\u001b[38;5;241m.\u001b[39mapply()\n",
      "File \u001b[1;32m~\\anaconda3\\Lib\\site-packages\\duckduckgo_search\\duckduckgo_search_async.py:11\u001b[0m\n\u001b[0;32m      8\u001b[0m \u001b[38;5;28;01mfrom\u001b[39;00m \u001b[38;5;21;01mitertools\u001b[39;00m \u001b[38;5;28;01mimport\u001b[39;00m cycle\n\u001b[0;32m      9\u001b[0m \u001b[38;5;28;01mfrom\u001b[39;00m \u001b[38;5;21;01mtyping\u001b[39;00m \u001b[38;5;28;01mimport\u001b[39;00m AsyncGenerator, Deque, Dict, Optional, Set, Tuple\n\u001b[1;32m---> 11\u001b[0m \u001b[38;5;28;01mfrom\u001b[39;00m \u001b[38;5;21;01mcurl_cffi\u001b[39;00m \u001b[38;5;28;01mimport\u001b[39;00m requests\n\u001b[0;32m     12\u001b[0m \u001b[38;5;28;01mfrom\u001b[39;00m \u001b[38;5;21;01mlxml\u001b[39;00m \u001b[38;5;28;01mimport\u001b[39;00m html\n\u001b[0;32m     14\u001b[0m \u001b[38;5;28;01mfrom\u001b[39;00m \u001b[38;5;21;01m.\u001b[39;00m\u001b[38;5;21;01mexceptions\u001b[39;00m \u001b[38;5;28;01mimport\u001b[39;00m DuckDuckGoSearchException\n",
      "File \u001b[1;32m~\\anaconda3\\Lib\\site-packages\\curl_cffi\\__init__.py:17\u001b[0m\n\u001b[0;32m     15\u001b[0m \u001b[38;5;28;01mimport\u001b[39;00m \u001b[38;5;21;01m_cffi_backend\u001b[39;00m  \u001b[38;5;66;03m# noqa: F401  # required by _wrapper\u001b[39;00m\n\u001b[0;32m     16\u001b[0m \u001b[38;5;66;03m# This line includes _wrapper.so into the wheel\u001b[39;00m\n\u001b[1;32m---> 17\u001b[0m \u001b[38;5;28;01mfrom\u001b[39;00m \u001b[38;5;21;01m.\u001b[39;00m\u001b[38;5;21;01m_wrapper\u001b[39;00m \u001b[38;5;28;01mimport\u001b[39;00m ffi, lib  \u001b[38;5;66;03m# type: ignore\u001b[39;00m\n\u001b[0;32m     19\u001b[0m \u001b[38;5;28;01mfrom\u001b[39;00m \u001b[38;5;21;01m.\u001b[39;00m\u001b[38;5;21;01mconst\u001b[39;00m \u001b[38;5;28;01mimport\u001b[39;00m CurlInfo, CurlMOpt, CurlOpt, CurlECode, CurlHttpVersion\n\u001b[0;32m     20\u001b[0m \u001b[38;5;28;01mfrom\u001b[39;00m \u001b[38;5;21;01m.\u001b[39;00m\u001b[38;5;21;01mcurl\u001b[39;00m \u001b[38;5;28;01mimport\u001b[39;00m Curl, CurlError, CurlMime\n",
      "\u001b[1;31mImportError\u001b[0m: DLL load failed while importing _wrapper: The operating system cannot run %1."
     ]
    }
   ],
   "source": [
    "from duckduckgo_search import DDGS\n",
    "from fastcore.all import *\n",
    "\n",
    "def search_images(term, max_images=30):\n",
    "    print(f\"Searching for '{term}'\")\n",
    "    with DDGS() as ddgs:\n",
    "        # generator which yields dicts with:\n",
    "        # {'title','image','thumbnail','url','height','width','source'}\n",
    "        search_results = ddgs.images(keywords=term)\n",
    "        # grap number of max_images urls\n",
    "        image_urls = [next(search_results).get(\"image\") for _ in range(max_images)]\n",
    "        # convert to L (functionally extended list class from fastai)\n",
    "        return L(image_urls)"
   ]
  },
  {
   "cell_type": "code",
   "execution_count": null,
   "metadata": {
    "colab": {
     "base_uri": "https://localhost:8080/"
    },
    "executionInfo": {
     "elapsed": 2532,
     "status": "ok",
     "timestamp": 1708344924175,
     "user": {
      "displayName": "Unurbold Mart",
      "userId": "10055402799999228266"
     },
     "user_tz": -480
    },
    "id": "mmX2wmNDiW0A",
    "outputId": "a7705c68-df0b-428f-ae47-cd05eb6733fe"
   },
   "outputs": [],
   "source": [
    "from google.colab import drive\n",
    "drive.mount('/content/drive')"
   ]
  },
  {
   "cell_type": "code",
   "execution_count": null,
   "metadata": {
    "colab": {
     "base_uri": "https://localhost:8080/"
    },
    "executionInfo": {
     "elapsed": 4,
     "status": "ok",
     "timestamp": 1708344924176,
     "user": {
      "displayName": "Unurbold Mart",
      "userId": "10055402799999228266"
     },
     "user_tz": -480
    },
    "id": "z5z_XPMUh3jF",
    "outputId": "4343ece5-4846-47fc-cc7d-a51ad8a82c0c"
   },
   "outputs": [],
   "source": [
    "%cd '/content/drive/MyDrive/Semester 6/Deep Learning/Week 2'"
   ]
  },
  {
   "cell_type": "code",
   "execution_count": null,
   "metadata": {
    "executionInfo": {
     "elapsed": 1087,
     "status": "ok",
     "timestamp": 1708344925260,
     "user": {
      "displayName": "Unurbold Mart",
      "userId": "10055402799999228266"
     },
     "user_tz": -480
    },
    "id": "QXQQuw09OP93"
   },
   "outputs": [],
   "source": [
    "!rm -rf mongolian_food_types"
   ]
  },
  {
   "cell_type": "code",
   "execution_count": null,
   "metadata": {
    "executionInfo": {
     "elapsed": 5,
     "status": "ok",
     "timestamp": 1708344925260,
     "user": {
      "displayName": "Unurbold Mart",
      "userId": "10055402799999228266"
     },
     "user_tz": -480
    },
    "id": "soGgaTYZj2WG"
   },
   "outputs": [],
   "source": [
    "mongolian_food_types = 'бууз','хуушуур','цуйван','нийслэл салат'\n",
    "path = Path('mongolian_food_types')"
   ]
  },
  {
   "cell_type": "code",
   "execution_count": null,
   "metadata": {
    "colab": {
     "base_uri": "https://localhost:8080/"
    },
    "executionInfo": {
     "elapsed": 4,
     "status": "ok",
     "timestamp": 1708344925260,
     "user": {
      "displayName": "Unurbold Mart",
      "userId": "10055402799999228266"
     },
     "user_tz": -480
    },
    "id": "tGi6sZFOQXGs",
    "outputId": "388ca14f-2c70-45fb-d82a-e75978bcb6d1"
   },
   "outputs": [],
   "source": [
    "mongolian_food_types\n"
   ]
  },
  {
   "cell_type": "code",
   "execution_count": null,
   "metadata": {
    "colab": {
     "base_uri": "https://localhost:8080/"
    },
    "executionInfo": {
     "elapsed": 3,
     "status": "ok",
     "timestamp": 1708344925260,
     "user": {
      "displayName": "Unurbold Mart",
      "userId": "10055402799999228266"
     },
     "user_tz": -480
    },
    "id": "VLxc3ILqrh9g",
    "outputId": "303b577d-9989-4cf4-9a61-d780930c9df1"
   },
   "outputs": [],
   "source": [
    "path"
   ]
  },
  {
   "cell_type": "code",
   "execution_count": null,
   "metadata": {
    "colab": {
     "base_uri": "https://localhost:8080/"
    },
    "executionInfo": {
     "elapsed": 20614,
     "status": "ok",
     "timestamp": 1708344945872,
     "user": {
      "displayName": "Unurbold Mart",
      "userId": "10055402799999228266"
     },
     "user_tz": -480
    },
    "id": "VHclJrQarhZ_",
    "outputId": "01e61fbf-f934-40a1-9d05-c54cbdb24749"
   },
   "outputs": [],
   "source": [
    "if not path.exists():\n",
    "    path.mkdir()\n",
    "    for o in mongolian_food_types:\n",
    "        dest = (path/o)\n",
    "        dest.mkdir(exist_ok=True)\n",
    "        urls = search_images(f'{o} ', max_images=50)\n",
    "        download_images(dest, urls=urls)"
   ]
  },
  {
   "cell_type": "markdown",
   "metadata": {
    "id": "6FvIufjbFUAu"
   },
   "source": [
    "Checking if Path exists"
   ]
  },
  {
   "cell_type": "code",
   "execution_count": null,
   "metadata": {
    "colab": {
     "base_uri": "https://localhost:8080/"
    },
    "executionInfo": {
     "elapsed": 11,
     "status": "ok",
     "timestamp": 1708344945872,
     "user": {
      "displayName": "Unurbold Mart",
      "userId": "10055402799999228266"
     },
     "user_tz": -480
    },
    "id": "NVebeFH6RREp",
    "outputId": "2eba987c-bb93-47d3-808e-f2f7ed2430de"
   },
   "outputs": [],
   "source": [
    "path"
   ]
  },
  {
   "cell_type": "code",
   "execution_count": null,
   "metadata": {
    "colab": {
     "base_uri": "https://localhost:8080/"
    },
    "executionInfo": {
     "elapsed": 3,
     "status": "ok",
     "timestamp": 1708344945873,
     "user": {
      "displayName": "Unurbold Mart",
      "userId": "10055402799999228266"
     },
     "user_tz": -480
    },
    "id": "iBQJdIscFOA8",
    "outputId": "d9a41d86-8c1e-4632-b6d9-ce4d2095b9e2"
   },
   "outputs": [],
   "source": [
    "fns = get_image_files(path)\n",
    "fns"
   ]
  },
  {
   "cell_type": "markdown",
   "metadata": {
    "id": "wzYADMVOFodP"
   },
   "source": [
    "Verifying images"
   ]
  },
  {
   "cell_type": "code",
   "execution_count": null,
   "metadata": {
    "colab": {
     "base_uri": "https://localhost:8080/"
    },
    "executionInfo": {
     "elapsed": 3136,
     "status": "ok",
     "timestamp": 1708344949007,
     "user": {
      "displayName": "Unurbold Mart",
      "userId": "10055402799999228266"
     },
     "user_tz": -480
    },
    "id": "HdGFJVJ4FTnn",
    "outputId": "23a75a89-1f7e-465a-dec1-a5d0ed8c8fb1"
   },
   "outputs": [],
   "source": [
    "failed = verify_images(fns)\n",
    "failed"
   ]
  },
  {
   "cell_type": "markdown",
   "metadata": {
    "id": "Oqc6UQ-VF7Tn"
   },
   "source": [
    "Unlinking the bad images"
   ]
  },
  {
   "cell_type": "code",
   "execution_count": null,
   "metadata": {
    "executionInfo": {
     "elapsed": 4,
     "status": "ok",
     "timestamp": 1708344949007,
     "user": {
      "displayName": "Unurbold Mart",
      "userId": "10055402799999228266"
     },
     "user_tz": -480
    },
    "id": "0uf4KdYhFlrN"
   },
   "outputs": [],
   "source": [
    "failed.map(Path.unlink);"
   ]
  },
  {
   "cell_type": "code",
   "execution_count": null,
   "metadata": {
    "colab": {
     "base_uri": "https://localhost:8080/"
    },
    "executionInfo": {
     "elapsed": 3,
     "status": "ok",
     "timestamp": 1708344949007,
     "user": {
      "displayName": "Unurbold Mart",
      "userId": "10055402799999228266"
     },
     "user_tz": -480
    },
    "id": "XcKxuWIlGRog",
    "outputId": "3963788f-11fd-4c22-e5b4-3a177841ad9f"
   },
   "outputs": [],
   "source": [
    "help(verify_images)"
   ]
  },
  {
   "cell_type": "markdown",
   "metadata": {
    "id": "JlSH7WFpGrmE"
   },
   "source": [
    "## Making  DataLoaders Object"
   ]
  },
  {
   "cell_type": "code",
   "execution_count": null,
   "metadata": {
    "executionInfo": {
     "elapsed": 3,
     "status": "ok",
     "timestamp": 1708344949007,
     "user": {
      "displayName": "Unurbold Mart",
      "userId": "10055402799999228266"
     },
     "user_tz": -480
    },
    "id": "EOUFVAp6GXPu"
   },
   "outputs": [],
   "source": [
    "mongolian_food_types = DataBlock(\n",
    "    blocks=(ImageBlock, CategoryBlock),\n",
    "    get_items=get_image_files,\n",
    "    splitter=RandomSplitter(valid_pct=0.2, seed=42),\n",
    "    get_y=parent_label,\n",
    "    item_tfms=Resize(128))"
   ]
  },
  {
   "cell_type": "code",
   "execution_count": null,
   "metadata": {
    "executionInfo": {
     "elapsed": 2,
     "status": "ok",
     "timestamp": 1708344949007,
     "user": {
      "displayName": "Unurbold Mart",
      "userId": "10055402799999228266"
     },
     "user_tz": -480
    },
    "id": "7HijyfOhK9N1"
   },
   "outputs": [],
   "source": [
    "dls = mongolian_food_types.dataloaders(path)"
   ]
  },
  {
   "cell_type": "code",
   "execution_count": null,
   "metadata": {
    "colab": {
     "base_uri": "https://localhost:8080/",
     "height": 261
    },
    "executionInfo": {
     "elapsed": 2514,
     "status": "ok",
     "timestamp": 1708344951519,
     "user": {
      "displayName": "Unurbold Mart",
      "userId": "10055402799999228266"
     },
     "user_tz": -480
    },
    "id": "t3IC5c6LK-9J",
    "outputId": "66fc0bd5-8a57-4c46-86ff-c824c19440f8"
   },
   "outputs": [],
   "source": [
    "dls.valid.show_batch(max_n=4, nrows=1)"
   ]
  },
  {
   "cell_type": "code",
   "execution_count": null,
   "metadata": {
    "colab": {
     "base_uri": "https://localhost:8080/",
     "height": 261
    },
    "executionInfo": {
     "elapsed": 2757,
     "status": "ok",
     "timestamp": 1708344954272,
     "user": {
      "displayName": "Unurbold Mart",
      "userId": "10055402799999228266"
     },
     "user_tz": -480
    },
    "id": "1mx0tdbcLPdG",
    "outputId": "31f10e1c-39eb-4f1b-e8a1-de55f3e7f584"
   },
   "outputs": [],
   "source": [
    "dls.train.show_batch(max_n=4, nrows=1)"
   ]
  },
  {
   "cell_type": "markdown",
   "metadata": {
    "id": "BUSoIMWzNM2r"
   },
   "source": [
    "Showing the difference kinds of cropped images for an instance of an image"
   ]
  },
  {
   "cell_type": "code",
   "execution_count": null,
   "metadata": {
    "colab": {
     "base_uri": "https://localhost:8080/",
     "height": 261
    },
    "executionInfo": {
     "elapsed": 3526,
     "status": "ok",
     "timestamp": 1708344957794,
     "user": {
      "displayName": "Unurbold Mart",
      "userId": "10055402799999228266"
     },
     "user_tz": -480
    },
    "id": "zRt1ihKcLV5r",
    "outputId": "4b403f02-37bc-423f-95b8-54f5ea032d98"
   },
   "outputs": [],
   "source": [
    "mongolian_food_types = mongolian_food_types.new(item_tfms=RandomResizedCrop(128, min_scale=0.3))\n",
    "dls = mongolian_food_types.dataloaders(path)\n",
    "dls.train.show_batch(max_n=4, nrows=1, unique=True)"
   ]
  },
  {
   "cell_type": "markdown",
   "metadata": {
    "id": "G7TzyBPnN1se"
   },
   "source": [
    "Augmenting the images to look at them from different angles"
   ]
  },
  {
   "cell_type": "code",
   "execution_count": null,
   "metadata": {
    "colab": {
     "base_uri": "https://localhost:8080/",
     "height": 513
    },
    "executionInfo": {
     "elapsed": 5282,
     "status": "ok",
     "timestamp": 1708344963073,
     "user": {
      "displayName": "Unurbold Mart",
      "userId": "10055402799999228266"
     },
     "user_tz": -480
    },
    "id": "vtUHNVyZpF4O",
    "outputId": "0dd3493a-2422-4f9c-bc9d-192a4a5184a0"
   },
   "outputs": [],
   "source": [
    "mongolian_food_types = mongolian_food_types.new(item_tfms=Resize(128), batch_tfms=aug_transforms(mult=2))\n",
    "dls = mongolian_food_types.dataloaders(path)\n",
    "dls.train.show_batch(max_n=8, nrows=2, unique=True)"
   ]
  },
  {
   "cell_type": "markdown",
   "metadata": {
    "id": "A7e1kXAZp_p1"
   },
   "source": [
    "## Training the Classifier"
   ]
  },
  {
   "cell_type": "code",
   "execution_count": null,
   "metadata": {
    "executionInfo": {
     "elapsed": 17,
     "status": "ok",
     "timestamp": 1708344963073,
     "user": {
      "displayName": "Unurbold Mart",
      "userId": "10055402799999228266"
     },
     "user_tz": -480
    },
    "id": "qcz3YoaLpmOf"
   },
   "outputs": [],
   "source": [
    "mongolian_food_types = mongolian_food_types.new(\n",
    "    item_tfms=RandomResizedCrop(224, min_scale=0.5),\n",
    "    batch_tfms=aug_transforms())\n",
    "dls = mongolian_food_types.dataloaders(path)"
   ]
  },
  {
   "cell_type": "markdown",
   "metadata": {
    "id": "Pr3M-bFAqlXn"
   },
   "source": [
    "## Using resnet18 and having 10 fine tunes seemed to work best"
   ]
  },
  {
   "cell_type": "code",
   "execution_count": null,
   "metadata": {
    "colab": {
     "base_uri": "https://localhost:8080/",
     "height": 461
    },
    "executionInfo": {
     "elapsed": 36500,
     "status": "ok",
     "timestamp": 1708344999557,
     "user": {
      "displayName": "Unurbold Mart",
      "userId": "10055402799999228266"
     },
     "user_tz": -480
    },
    "id": "uUduE8Qtqkow",
    "outputId": "6a1a3e9f-6e58-4117-b623-c14ec6a53fcc"
   },
   "outputs": [],
   "source": [
    "learn = cnn_learner(dls, resnet18, metrics=error_rate)\n",
    "learn.fine_tune(10)"
   ]
  },
  {
   "cell_type": "markdown",
   "metadata": {
    "tags": []
   },
   "source": [
    "## Most of the food classifications looked good"
   ]
  },
  {
   "cell_type": "code",
   "execution_count": null,
   "metadata": {
    "colab": {
     "base_uri": "https://localhost:8080/",
     "height": 506
    },
    "executionInfo": {
     "elapsed": 2350,
     "status": "ok",
     "timestamp": 1708345001895,
     "user": {
      "displayName": "Unurbold Mart",
      "userId": "10055402799999228266"
     },
     "user_tz": -480
    },
    "id": "PIia9RResdit",
    "outputId": "c0d69625-e49a-47ad-f347-930398715dcf"
   },
   "outputs": [],
   "source": [
    "interp = ClassificationInterpretation.from_learner(learn)\n",
    "interp.plot_confusion_matrix()"
   ]
  },
  {
   "cell_type": "markdown",
   "metadata": {},
   "source": [
    "## There were some images which did not belong"
   ]
  },
  {
   "cell_type": "code",
   "execution_count": null,
   "metadata": {
    "colab": {
     "base_uri": "https://localhost:8080/",
     "height": 282
    },
    "executionInfo": {
     "elapsed": 2091,
     "status": "ok",
     "timestamp": 1708345003983,
     "user": {
      "displayName": "Unurbold Mart",
      "userId": "10055402799999228266"
     },
     "user_tz": -480
    },
    "id": "5SVM5L4Dsi64",
    "outputId": "46051e8b-0fec-42d3-9016-3f6ac194e3df"
   },
   "outputs": [],
   "source": [
    "interp.plot_top_losses(5, nrows=1)"
   ]
  },
  {
   "cell_type": "markdown",
   "metadata": {},
   "source": [
    "## Exporting the Model"
   ]
  },
  {
   "cell_type": "code",
   "execution_count": null,
   "metadata": {
    "executionInfo": {
     "elapsed": 16,
     "status": "ok",
     "timestamp": 1708345003983,
     "user": {
      "displayName": "Unurbold Mart",
      "userId": "10055402799999228266"
     },
     "user_tz": -480
    },
    "id": "DtRIJ8lK0BA2"
   },
   "outputs": [],
   "source": [
    "learn.export()"
   ]
  },
  {
   "cell_type": "code",
   "execution_count": null,
   "metadata": {
    "colab": {
     "base_uri": "https://localhost:8080/"
    },
    "executionInfo": {
     "elapsed": 16,
     "status": "ok",
     "timestamp": 1708345003983,
     "user": {
      "displayName": "Unurbold Mart",
      "userId": "10055402799999228266"
     },
     "user_tz": -480
    },
    "id": "2lkwgw_1s7RC",
    "outputId": "867c16ee-b79a-4d8a-da6e-de1baa3c72fc"
   },
   "outputs": [],
   "source": [
    "path = Path()\n",
    "path.ls(file_exts='.pkl')"
   ]
  },
  {
   "cell_type": "code",
   "execution_count": null,
   "metadata": {
    "colab": {
     "base_uri": "https://localhost:8080/"
    },
    "executionInfo": {
     "elapsed": 11,
     "status": "ok",
     "timestamp": 1708345003984,
     "user": {
      "displayName": "Unurbold Mart",
      "userId": "10055402799999228266"
     },
     "user_tz": -480
    },
    "id": "lhMdd1tNtAGi",
    "outputId": "788cdad8-bb5e-42d1-ad97-73c8afd59327"
   },
   "outputs": [],
   "source": [
    "!ls"
   ]
  },
  {
   "cell_type": "code",
   "execution_count": null,
   "metadata": {
    "executionInfo": {
     "elapsed": 7,
     "status": "ok",
     "timestamp": 1708345003984,
     "user": {
      "displayName": "Unurbold Mart",
      "userId": "10055402799999228266"
     },
     "user_tz": -480
    },
    "id": "6f9VgKL2tAvJ",
    "tags": []
   },
   "outputs": [],
   "source": [
    "from fastai.vision.all import *"
   ]
  },
  {
   "cell_type": "code",
   "execution_count": null,
   "metadata": {
    "executionInfo": {
     "elapsed": 7,
     "status": "ok",
     "timestamp": 1708345003984,
     "user": {
      "displayName": "Unurbold Mart",
      "userId": "10055402799999228266"
     },
     "user_tz": -480
    },
    "id": "R-TNSggLtCjS",
    "tags": []
   },
   "outputs": [],
   "source": [
    "learn_inf = load_learner(path/'export.pkl')"
   ]
  },
  {
   "cell_type": "code",
   "execution_count": null,
   "metadata": {
    "executionInfo": {
     "elapsed": 7,
     "status": "ok",
     "timestamp": 1708345003984,
     "user": {
      "displayName": "Unurbold Mart",
      "userId": "10055402799999228266"
     },
     "user_tz": -480
    },
    "id": "-MqZWGBp0wyw"
   },
   "outputs": [],
   "source": [
    "import anvil.server\n",
    "import anvil.media\n",
    "\n",
    "anvil.server.connect(\"7AGWEPHYIR5LHUS7GEB5GIPG-BXIBL2GTKQFZ3RHV\")"
   ]
  },
  {
   "cell_type": "code",
   "execution_count": null,
   "metadata": {
    "executionInfo": {
     "elapsed": 6,
     "status": "ok",
     "timestamp": 1708345003984,
     "user": {
      "displayName": "Unurbold Mart",
      "userId": "10055402799999228266"
     },
     "user_tz": -480
    },
    "id": "ljI3wiDp0xGH"
   },
   "outputs": [],
   "source": [
    "@anvil.server.callable\n",
    "def classify_image(file):\n",
    "    with anvil.media.TempFile(file) as f:\n",
    "        img = PILImage.create(f)\n",
    "\n",
    "    pred, pred_idx, probs = learn_inf.predict(img)\n",
    "\n",
    "    return pred, max(probs.tolist())"
   ]
  },
  {
   "cell_type": "code",
   "execution_count": null,
   "metadata": {
    "colab": {
     "base_uri": "https://localhost:8080/"
    },
    "executionInfo": {
     "elapsed": 6,
     "status": "ok",
     "timestamp": 1708345003984,
     "user": {
      "displayName": "Unurbold Mart",
      "userId": "10055402799999228266"
     },
     "user_tz": -480
    },
    "id": "JDdVBZTNB1-q",
    "outputId": "4767059d-a1ec-46bb-a473-1fb177b2cdeb"
   },
   "outputs": [],
   "source": [
    "%ls"
   ]
  },
  {
   "cell_type": "code",
   "execution_count": null,
   "metadata": {
    "executionInfo": {
     "elapsed": 520,
     "status": "ok",
     "timestamp": 1708345004500,
     "user": {
      "displayName": "Unurbold Mart",
      "userId": "10055402799999228266"
     },
     "user_tz": -480
    },
    "id": "GxaGdXHaIg7B"
   },
   "outputs": [],
   "source": [
    "names = [{'firstname':'bob', 'lastname':'jones'}]"
   ]
  },
  {
   "cell_type": "code",
   "execution_count": null,
   "metadata": {
    "executionInfo": {
     "elapsed": 2,
     "status": "ok",
     "timestamp": 1708345004500,
     "user": {
      "displayName": "Unurbold Mart",
      "userId": "10055402799999228266"
     },
     "user_tz": -480
    },
    "id": "dMBM-FnzIhij",
    "tags": []
   },
   "outputs": [],
   "source": [
    "for x in names:\n",
    "    x['fullname'] = x['firstname'] + ' ' + x['lastname']"
   ]
  }
 ],
 "metadata": {
  "accelerator": "GPU",
  "colab": {
   "provenance": []
  },
  "gpuClass": "standard",
  "kernelspec": {
   "display_name": "Python 3 (ipykernel)",
   "language": "python",
   "name": "python3"
  },
  "language_info": {
   "codemirror_mode": {
    "name": "ipython",
    "version": 3
   },
   "file_extension": ".py",
   "mimetype": "text/x-python",
   "name": "python",
   "nbconvert_exporter": "python",
   "pygments_lexer": "ipython3",
   "version": "3.11.5"
  }
 },
 "nbformat": 4,
 "nbformat_minor": 4
}
